{
 "cells": [
  {
   "cell_type": "markdown",
   "metadata": {
    "id": "WevzZqqoWuNS"
   },
   "source": [
    "# Gesture Recognition\n",
    "In this group project, you are going to build a 3D Conv model that will be able to predict the 5 gestures correctly. Please import the following libraries to get started."
   ]
  },
  {
   "cell_type": "code",
   "execution_count": null,
   "metadata": {
    "colab": {
     "base_uri": "https://localhost:8080/",
     "height": 437
    },
    "executionInfo": {
     "elapsed": 6767,
     "status": "error",
     "timestamp": 1667748105747,
     "user": {
      "displayName": "Eswar",
      "userId": "18023474921166599656"
     },
     "user_tz": -330
    },
    "id": "e6gc09qPWuNW",
    "outputId": "0bb26ef5-4618-400d-ccfd-ace15f310f90"
   },
   "outputs": [],
   "source": [
    "import numpy as np\n",
    "import os\n",
    "from imageio import imread\n",
    "from skimage.transform import resize\n",
    "import datetime\n",
    "import pandas as pd\n",
    "import matplotlib.pyplot as plt\n",
    "import warnings\n",
    "warnings.filterwarnings(\"ignore\")"
   ]
  },
  {
   "cell_type": "markdown",
   "metadata": {
    "id": "zCPWxT3tWuNY"
   },
   "source": [
    "We set the random seed so that the results don't vary drastically."
   ]
  },
  {
   "cell_type": "code",
   "execution_count": null,
   "metadata": {
    "id": "dYMotJGjWuNY"
   },
   "outputs": [],
   "source": [
    "np.random.seed(30)\n",
    "import random as rn\n",
    "rn.seed(30)\n",
    "from keras import backend as K\n",
    "import tensorflow as tf\n",
    "tf.random.set_seed(30)"
   ]
  },
  {
   "cell_type": "code",
   "execution_count": null,
   "metadata": {},
   "outputs": [],
   "source": [
    "train_doc = np.random.permutation(open('D:/Upgrade Master Degree/Gesture Recognition/Project_data/train.csv').readlines())\n",
    "val_doc = np.random.permutation(open('D:/Upgrade Master Degree/Gesture Recognition/Project_data/val.csv').readlines())\n",
    "batch_size = 12 #experiment with the batch size"
   ]
  },
  {
   "cell_type": "markdown",
   "metadata": {
    "id": "U7wOxkRBWuNZ"
   },
   "source": [
    "In this block, you read the folder names for training and validation. You also set the `batch_size` here. Note that you set the batch size in such a way that you are able to use the GPU in full capacity. You keep increasing the batch size until the machine throws an error."
   ]
  },
  {
   "cell_type": "code",
   "execution_count": null,
   "metadata": {
    "id": "QfkmVY_HWuNZ"
   },
   "outputs": [],
   "source": [
    "## 2GB graphics car: batch size = 16, 8,  img_size= 64*64\n",
    "## 4GB graphics car: batch size = 16, 8,  img_size= 128*128, 64*64\n",
    "## 6GB graphics car: batch size = 32, 16, 8,  img_size= 128*128, 64*64\n",
    "## 8GB graphics car: batch size = 128, 64, 32, 16, 8, img_size= 128*128, 64*64\n",
    "\n",
    "# if train_on CPU:\n",
    "#     use = Physical RAM\n",
    "# else if train_on GPU:\n",
    "#     use = Graphics card VRAM"
   ]
  },
  {
   "cell_type": "code",
   "execution_count": null,
   "metadata": {},
   "outputs": [],
   "source": [
    "# function to plot the training/validation accuracies/losses.\n",
    "from matplotlib import pyplot as plt\n",
    "def plot(history):\n",
    "    fig, axes = plt.subplots(nrows=1, ncols=2, figsize=(15,4))\n",
    "    axes[0].plot(history.history['loss'])   \n",
    "    axes[0].plot(history.history['val_loss'])\n",
    "    axes[0].grid()\n",
    "    axes[0].legend(['loss','val_loss'])\n",
    "    axes[1].plot(history.history['categorical_accuracy'])   \n",
    "    axes[1].plot(history.history['val_categorical_accuracy'])\n",
    "    axes[1].grid()\n",
    "    axes[1].legend(['categorical_accuracy','val_categorical_accuracy'])"
   ]
  },
  {
   "cell_type": "markdown",
   "metadata": {
    "id": "t64AzedsWuNa"
   },
   "source": [
    "## Generator\n",
    "This is one of the most important part of the code. The overall structure of the generator has been given. In the generator, you are going to preprocess the images as you have images of 2 different dimensions as well as create a batch of video frames. You have to experiment with `img_idx`, `y`,`z` and normalization such that you get high accuracy."
   ]
  },
  {
   "cell_type": "code",
   "execution_count": null,
   "metadata": {},
   "outputs": [],
   "source": [
    "def cropResize(image, y, z):\n",
    "    h = image.shape[0]\n",
    "    w = image.shape[1]\n",
    "    \n",
    "    # if smaller image crop at center for 120x120\n",
    "    if w == 160:\n",
    "        image = image[:120, 20:140]\n",
    "\n",
    "    # resize every image\n",
    "    return resize(image, (y,z))"
   ]
  },
  {
   "cell_type": "code",
   "execution_count": null,
   "metadata": {},
   "outputs": [],
   "source": [
    "def normalizeImage(image):\n",
    "    # applying normalization\n",
    "    return image/255.0"
   ]
  },
  {
   "cell_type": "code",
   "execution_count": null,
   "metadata": {},
   "outputs": [],
   "source": [
    "def getBatchDataAndBatchLabels(source_path, t, skipRecords, batch_size, video_frames, img_height, img_width):  \n",
    "    #create a list of image numbers you want to use for a particular video\n",
    "    img_idx = video_frames\n",
    "    x = len(img_idx)\n",
    "    y = img_height\n",
    "    z = img_width\n",
    "    \n",
    "    batch_data = np.zeros((batch_size,x,y,z,3)) # x is the number of images you use for each video, (y,z) is the final size of the input images and 3 is the number of channels RGB\n",
    "    batch_labels = np.zeros((batch_size,5)) # batch_labels is the one hot representation of the output\n",
    "    \n",
    "    for folderIndex in range(batch_size): # iterate over the batch_size\n",
    "        imgs = os.listdir(source_path+'/'+ t[folderIndex + skipRecords].split(';')[0]) # read all the images in the folder\n",
    "        for idx,item in enumerate(img_idx): #  Iterate iver the frames/images of a folder to read them in\n",
    "            image = imread(source_path+'/'+ t[folderIndex + skipRecords].strip().split(';')[0]+'/'+imgs[item]).astype(np.float32)\n",
    "\n",
    "            #crop the images and resize them. Note that the images are of 2 different shape \n",
    "            #and the conv3D will throw error if the inputs in a batch have different shapes\n",
    "            resized_image = cropResize(image, y, z)\n",
    "            \n",
    "            batch_data[folderIndex,idx,:,:,0] = normalizeImage(resized_image[:,:,0]) #normalise and feed in the image\n",
    "            batch_data[folderIndex,idx,:,:,1] = normalizeImage(resized_image[:,:,1]) #normalise and feed in the image\n",
    "            batch_data[folderIndex,idx,:,:,2] = normalizeImage(resized_image[:,:,2]) #normalise and feed in the image\n",
    "            \n",
    "        batch_labels[folderIndex, int(t[folderIndex + skipRecords].strip().split(';')[2])] = 1\n",
    "    return batch_data, batch_labels"
   ]
  },
  {
   "cell_type": "code",
   "execution_count": null,
   "metadata": {},
   "outputs": [],
   "source": [
    "def generator(source_path, folder_list, batch_size, video_frames, img_height, img_width):\n",
    "    print('Source path = ', source_path, '; batch size =', batch_size)\n",
    "\n",
    "    while True:\n",
    "        t = np.random.permutation(folder_list)\n",
    "        totalFoldersCount = len(t)\n",
    "        num_full_batches = totalFoldersCount//batch_size # calculate the number of full batches\n",
    "        \n",
    "        for currentBatchIndex in range(num_full_batches): # we iterate over the number of full batches\n",
    "            # currentBatchNumber is 0 index basedso skipRecords value will be 0 for first batch,\n",
    "            # 1 * 50 = 50 for second batch, 2 * 50 = 100 for third batch, and so on\n",
    "            skipRecords = currentBatchIndex*batch_size\n",
    "            yield getBatchDataAndBatchLabels(source_path, t, skipRecords, batch_size, video_frames, img_height, img_width)\n",
    "    \n",
    "        remainingItems = totalFoldersCount%batch_size\n",
    "        if remainingItems != 0:\n",
    "            # Control will reach here only of all full batches are processed\n",
    "            # so take all remaining items in last batch\n",
    "            # For last partial batch skipRecords will be fullbatches * batch size\n",
    "            # e.g. 663 records have 13 full batches and 14th partial batch of size 13\n",
    "            # skip 50 * 13 = 650, and take next 13\n",
    "            skipRecords = num_full_batches * batch_size\n",
    "            yield getBatchDataAndBatchLabels(source_path, t, skipRecords, remainingItems, video_frames, img_height, img_width)"
   ]
  },
  {
   "cell_type": "markdown",
   "metadata": {
    "id": "CepnU6Y_WuNc"
   },
   "source": [
    "Note here that a video is represented above in the generator as (number of images, height, width, number of channels). Take this into consideration while creating the model architecture."
   ]
  },
  {
   "cell_type": "code",
   "execution_count": null,
   "metadata": {
    "id": "9DVYAt4qWuNc"
   },
   "outputs": [],
   "source": [
    "curr_dt_time = datetime.datetime.now()\n",
    "train_path = 'D:/Upgrade Master Degree/Gesture Recognition/Project_data/train'\n",
    "val_path ='D:/Upgrade Master Degree/Gesture Recognition/Project_data/val'\n",
    "num_train_sequences = len(train_doc)\n",
    "print('# training sequences =', num_train_sequences)\n",
    "num_val_sequences = len(val_doc)\n",
    "print('# validation sequences =', num_val_sequences)"
   ]
  },
  {
   "cell_type": "markdown",
   "metadata": {
    "id": "fmSD0rQwWuNd"
   },
   "source": [
    "## Model\n",
    "Here you make the model using different functionalities that Keras provides. Remember to use `Conv3D` and `MaxPooling3D` and not `Conv2D` and `Maxpooling2D` for a 3D convolution model. You would want to use `TimeDistributed` while building a Conv2D + RNN model. Also remember that the last layer is the softmax. Design the network in such a way that the model is able to give good accuracy on the least number of parameters so that it can fit in the memory of the webcam."
   ]
  },
  {
   "cell_type": "code",
   "execution_count": null,
   "metadata": {},
   "outputs": [],
   "source": [
    "nb_rows = 120   # X dimension of the image\n",
    "nb_cols = 120   # Y dimesnion of the image\n",
    "nb_frames = 30  # length of the video frames\n",
    "nb_channel = 3"
   ]
  },
  {
   "cell_type": "code",
   "execution_count": null,
   "metadata": {
    "id": "Mvo85D9vWuNd",
    "outputId": "654c175f-47ae-4844-ef53-ffe0bccb323a"
   },
   "outputs": [],
   "source": [
    "from keras.models import Sequential, Model\n",
    "from keras.layers import Dense, GRU, Flatten, TimeDistributed, Flatten, BatchNormalization, Activation\n",
    "from keras.layers.convolutional import Conv3D, MaxPooling3D\n",
    "from keras.callbacks import ModelCheckpoint, ReduceLROnPlateau\n",
    "from keras import optimizers\n",
    "\n",
    "from tensorflow.keras.models import Sequential, Model\n",
    "from tensorflow.keras.layers import Dense, GRU, Flatten, TimeDistributed, Flatten, BatchNormalization, Activation, Dropout\n",
    "from tensorflow.keras.layers import Conv3D, MaxPooling3D, Conv2D, MaxPooling2D\n",
    "from tensorflow.keras.callbacks import ModelCheckpoint, ReduceLROnPlateau\n",
    "\n",
    "from tensorflow.keras import optimizers\n",
    "from keras.optimizers import Adam\n",
    "from keras.layers import LSTM\n",
    "from tensorflow.keras.applications import mobilenet\n",
    "\n",
    "from keras.models import Sequential\n",
    "from keras.layers import TimeDistributed\n",
    "from keras.layers import Dense, GRU, Dropout, Flatten, BatchNormalization, Activation\n",
    "from keras.layers.convolutional import Conv3D, MaxPooling3D\n",
    "from keras.callbacks import ModelCheckpoint, ReduceLROnPlateau\n",
    "from tensorflow.keras import optimizers\n",
    "#write your model here"
   ]
  },
  {
   "cell_type": "code",
   "execution_count": null,
   "metadata": {},
   "outputs": [],
   "source": [
    "\n",
    "def train_model(modelName, model, batch_size, video_frames, img_height, img_width, num_epochs):\n",
    "    # Now that you have written the model, the next step is to compile the model.\n",
    "    # When you print the summary of the model, you'll see the total number of parameters you have to train.\n",
    "    \n",
    "    optimiser = tf.keras.optimizers.Adam() #write your optimizer\n",
    "    model.compile(optimizer=optimiser, loss='categorical_crossentropy', metrics=['categorical_accuracy'])\n",
    "    print (model.summary())\n",
    "    \n",
    "    # Let us create the `train_generator` and the `val_generator` which will be used in `.fit_generator`.    \n",
    "    train_generator = generator(train_path, train_doc, batch_size, video_frames, img_height, img_width)\n",
    "    val_generator = generator(val_path, val_doc, batch_size, video_frames, img_height, img_width)\n",
    "    \n",
    "    # save model\n",
    "    model_name = modelName + '_init' + '_' + str(curr_dt_time).replace(' ','').replace(':','_') + '/'\n",
    "    \n",
    "    if not os.path.exists(model_name):\n",
    "        os.mkdir(model_name)\n",
    "        \n",
    "    filepath = model_name + 'model-{epoch:05d}-{loss:.5f}-{categorical_accuracy:.5f}-{val_loss:.5f}-{val_categorical_accuracy:.5f}.h5'\n",
    "\n",
    "    checkpoint = ModelCheckpoint(filepath, monitor='val_loss', verbose=1, save_best_only=False, save_weights_only=False, mode='auto', period=1)\n",
    "\n",
    "    LR = ReduceLROnPlateau(monitor='val_loss', factor=0.2, verbose=1, patience=4)\n",
    "    callbacks_list = [checkpoint, LR]\n",
    "    \n",
    "    # The `steps_per_epoch` and `validation_steps` are used by `fit_generator` to \n",
    "    # decide the number of next() calls it need to make.\n",
    "    \n",
    "    if (num_train_sequences%batch_size) == 0:\n",
    "        steps_per_epoch = int(num_train_sequences/batch_size)\n",
    "    else:\n",
    "        steps_per_epoch = (num_train_sequences//batch_size) + 1\n",
    "\n",
    "    if (num_val_sequences%batch_size) == 0:\n",
    "        validation_steps = int(num_val_sequences/batch_size)\n",
    "    else:\n",
    "        validation_steps = (num_val_sequences//batch_size) + 1\n",
    "    \n",
    "    # Let us now fit the model. This will start training the model and with the help of the checkpoints,\n",
    "    # you'll be able to save the model at the end of each epoch.\n",
    "    \n",
    "    fitted_model = model.fit_generator(train_generator, steps_per_epoch=steps_per_epoch, epochs=num_epochs, verbose=1, \n",
    "                    callbacks=callbacks_list, validation_data=val_generator, \n",
    "                    validation_steps=validation_steps, class_weight=None, workers=1, initial_epoch=0)\n",
    "    \n",
    "    return fitted_model"
   ]
  },
  {
   "cell_type": "markdown",
   "metadata": {
    "id": "soDwsdwBWuNd"
   },
   "source": [
    "Now that you have written the model, the next step is to `compile` the model. When you print the `summary` of the model, you'll see the total number of parameters you have to train."
   ]
  },
  {
   "cell_type": "code",
   "execution_count": null,
   "metadata": {},
   "outputs": [],
   "source": [
    "\n",
    "def getConv2DModel(img_idx, y, z):\n",
    "    x = len(img_idx)\n",
    "    \n",
    "    model = Sequential()\n",
    "\n",
    "    model.add(TimeDistributed(Conv2D(16, (3, 3), padding='same',activation='relu'), input_shape=(x,y,z,3)))\n",
    "    model.add(TimeDistributed(BatchNormalization()))\n",
    "    model.add(TimeDistributed(MaxPooling2D(pool_size=(2, 2))))\n",
    "    \n",
    "    model.add(TimeDistributed(Conv2D(32, (2, 2), padding='same',activation='relu')))\n",
    "    model.add(TimeDistributed(BatchNormalization()))\n",
    "    model.add(TimeDistributed(MaxPooling2D(pool_size=(2, 2))))\n",
    "    \n",
    "    model.add(TimeDistributed(Conv2D(64, (2, 2), padding='same',activation='relu')))\n",
    "    model.add(TimeDistributed(BatchNormalization()))\n",
    "    model.add(TimeDistributed(MaxPooling2D(pool_size=(2, 2))))\n",
    "\n",
    "    model.add(TimeDistributed(Flatten()))\n",
    "\n",
    "    model.add(LSTM(256))\n",
    "    model.add(Dropout(0.25))\n",
    "    \n",
    "    model.add(Dense(128,activation='relu'))\n",
    "    model.add(Dropout(0.25))\n",
    "    \n",
    "    model.add(Dense(64,activation='relu'))\n",
    "    model.add(Dropout(0.25))\n",
    "    \n",
    "    model.add(Dense(5,activation='softmax'))\n",
    "    \n",
    "    return model"
   ]
  },
  {
   "cell_type": "code",
   "execution_count": null,
   "metadata": {},
   "outputs": [],
   "source": [
    "def getConv3DModel_1(img_idx, y, z):\n",
    "    x = len(img_idx)\n",
    "\n",
    "    model = Sequential()\n",
    "    \n",
    "    model.add(Conv3D(16, (3,3,3), padding='same', input_shape=(x,y,z,3)))\n",
    "    model.add(Activation('relu'))\n",
    "    model.add(BatchNormalization())\n",
    "    model.add(MaxPooling3D(pool_size=(2, 2, 2)))\n",
    "\n",
    "    model.add(Conv3D(32, (2,2,2), padding='same'))\n",
    "    model.add(Activation('relu'))    \n",
    "    model.add(BatchNormalization())\n",
    "    model.add(MaxPooling3D(pool_size=(2, 2, 2)))\n",
    "    \n",
    "    model.add(Conv3D(64, (2,2,2), padding='same'))\n",
    "    model.add(Activation('relu'))\n",
    "    model.add(BatchNormalization())\n",
    "    model.add(MaxPooling3D(pool_size=(2, 2, 2)))\n",
    "    \n",
    "    model.add(Flatten())\n",
    "\n",
    "    model.add(Dense(128,activation='relu'))\n",
    "    model.add(BatchNormalization())\n",
    "    model.add(Dropout(0.25))\n",
    "\n",
    "    model.add(Dense(64,activation='relu'))\n",
    "    model.add(BatchNormalization())\n",
    "    model.add(Dropout(0.25))\n",
    "\n",
    "    model.add(Dense(5,activation='softmax'))\n",
    "    \n",
    "    return model"
   ]
  },
  {
   "cell_type": "code",
   "execution_count": null,
   "metadata": {
    "id": "03vieZDyWuNe",
    "scrolled": true
   },
   "outputs": [],
   "source": [
    "# optimiser = #write your optimizer\n",
    "# model.compile(optimizer=optimiser, loss='categorical_crossentropy', metrics=['categorical_accuracy'])\n",
    "# print (model.summary())"
   ]
  },
  {
   "cell_type": "code",
   "execution_count": null,
   "metadata": {},
   "outputs": [],
   "source": [
    "# Take below frames from each video of 30 frames\n",
    "seq_idx = [0,2,4,6,8,10,12,14,16,18,20,22,24,26,28]\n",
    "image_height = 120\n",
    "image_width = 120\n",
    "batch_size = 50\n",
    "num_epochs = 50"
   ]
  },
  {
   "cell_type": "code",
   "execution_count": null,
   "metadata": {},
   "outputs": [],
   "source": [
    "conv2D_model = getConv2DModel(seq_idx, image_height, image_width)\n",
    "conv2D_fitted_model = train_model(\"Conv2D\", conv2D_model, batch_size, seq_idx, image_height, image_width, num_epochs)"
   ]
  },
  {
   "cell_type": "code",
   "execution_count": null,
   "metadata": {},
   "outputs": [],
   "source": [
    "plot(conv2D_fitted_model)"
   ]
  },
  {
   "cell_type": "code",
   "execution_count": null,
   "metadata": {},
   "outputs": [],
   "source": [
    "conv3D_model_1 = getConv3DModel_1(seq_idx, image_height, image_width)\n",
    "conv3D_fitted_model_1 = train_model(\"Conv3D_1\", conv3D_model_1, batch_size, seq_idx, image_height, image_width, num_epochs)"
   ]
  },
  {
   "cell_type": "code",
   "execution_count": null,
   "metadata": {},
   "outputs": [],
   "source": [
    "plot(conv2D_fitted_model_1)"
   ]
  }
 ],
 "metadata": {
  "colab": {
   "provenance": []
  },
  "kernelspec": {
   "display_name": "Python 3 (ipykernel)",
   "language": "python",
   "name": "python3"
  },
  "language_info": {
   "codemirror_mode": {
    "name": "ipython",
    "version": 3
   },
   "file_extension": ".py",
   "mimetype": "text/x-python",
   "name": "python",
   "nbconvert_exporter": "python",
   "pygments_lexer": "ipython3",
   "version": "3.9.12"
  }
 },
 "nbformat": 4,
 "nbformat_minor": 1
}
